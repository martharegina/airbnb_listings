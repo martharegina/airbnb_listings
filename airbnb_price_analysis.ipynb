{
 "cells": [
  {
   "cell_type": "markdown",
   "id": "0a83d049",
   "metadata": {},
   "source": [
    "# Airbnb Listings: Price Analysis"
   ]
  },
  {
   "cell_type": "markdown",
   "id": "e7aeb3d7",
   "metadata": {},
   "source": [
    "## Project overview\n",
    "In this project, I will analyze the Airbnb Open Data to explore factors influencing Airbnb listing prices and extract insights through visualizations. \\\n",
    "Source: https://www.kaggle.com/datasets/arianazmoudeh/airbnbopendata/data"
   ]
  },
  {
   "cell_type": "markdown",
   "id": "33e3ebc6",
   "metadata": {},
   "source": [
    "## Import required libraries and load dataset"
   ]
  },
  {
   "cell_type": "code",
   "execution_count": 1,
   "id": "1e7d5a54",
   "metadata": {},
   "outputs": [],
   "source": [
    "import pandas as pd\n",
    "import matplotlib.pyplot as plt\n",
    "import seaborn as sns"
   ]
  },
  {
   "cell_type": "code",
   "execution_count": 2,
   "id": "3654ec44",
   "metadata": {},
   "outputs": [],
   "source": [
    "import warnings\n",
    "warnings.simplefilter(action='ignore', category=FutureWarning)"
   ]
  },
  {
   "cell_type": "code",
   "execution_count": 3,
   "id": "67d7a186",
   "metadata": {},
   "outputs": [],
   "source": [
    "df = pd.read_csv(r'D:\\REGINA\\DA DS\\airbnb_listings\\Airbnb_Open_Data.csv', low_memory=False)"
   ]
  },
  {
   "cell_type": "code",
   "execution_count": 4,
   "id": "6344b7db",
   "metadata": {},
   "outputs": [
    {
     "data": {
      "text/html": [
       "<div>\n",
       "<style scoped>\n",
       "    .dataframe tbody tr th:only-of-type {\n",
       "        vertical-align: middle;\n",
       "    }\n",
       "\n",
       "    .dataframe tbody tr th {\n",
       "        vertical-align: top;\n",
       "    }\n",
       "\n",
       "    .dataframe thead th {\n",
       "        text-align: right;\n",
       "    }\n",
       "</style>\n",
       "<table border=\"1\" class=\"dataframe\">\n",
       "  <thead>\n",
       "    <tr style=\"text-align: right;\">\n",
       "      <th></th>\n",
       "      <th>id</th>\n",
       "      <th>NAME</th>\n",
       "      <th>host id</th>\n",
       "      <th>host_identity_verified</th>\n",
       "      <th>host name</th>\n",
       "      <th>neighbourhood group</th>\n",
       "      <th>neighbourhood</th>\n",
       "      <th>lat</th>\n",
       "      <th>long</th>\n",
       "      <th>country</th>\n",
       "      <th>...</th>\n",
       "      <th>service fee</th>\n",
       "      <th>minimum nights</th>\n",
       "      <th>number of reviews</th>\n",
       "      <th>last review</th>\n",
       "      <th>reviews per month</th>\n",
       "      <th>review rate number</th>\n",
       "      <th>calculated host listings count</th>\n",
       "      <th>availability 365</th>\n",
       "      <th>house_rules</th>\n",
       "      <th>license</th>\n",
       "    </tr>\n",
       "  </thead>\n",
       "  <tbody>\n",
       "    <tr>\n",
       "      <th>0</th>\n",
       "      <td>1001254</td>\n",
       "      <td>Clean &amp; quiet apt home by the park</td>\n",
       "      <td>80014485718</td>\n",
       "      <td>unconfirmed</td>\n",
       "      <td>Madaline</td>\n",
       "      <td>Brooklyn</td>\n",
       "      <td>Kensington</td>\n",
       "      <td>40.64749</td>\n",
       "      <td>-73.97237</td>\n",
       "      <td>United States</td>\n",
       "      <td>...</td>\n",
       "      <td>$193</td>\n",
       "      <td>10.0</td>\n",
       "      <td>9.0</td>\n",
       "      <td>10/19/2021</td>\n",
       "      <td>0.21</td>\n",
       "      <td>4.0</td>\n",
       "      <td>6.0</td>\n",
       "      <td>286.0</td>\n",
       "      <td>Clean up and treat the home the way you'd like...</td>\n",
       "      <td>NaN</td>\n",
       "    </tr>\n",
       "    <tr>\n",
       "      <th>1</th>\n",
       "      <td>1002102</td>\n",
       "      <td>Skylit Midtown Castle</td>\n",
       "      <td>52335172823</td>\n",
       "      <td>verified</td>\n",
       "      <td>Jenna</td>\n",
       "      <td>Manhattan</td>\n",
       "      <td>Midtown</td>\n",
       "      <td>40.75362</td>\n",
       "      <td>-73.98377</td>\n",
       "      <td>United States</td>\n",
       "      <td>...</td>\n",
       "      <td>$28</td>\n",
       "      <td>30.0</td>\n",
       "      <td>45.0</td>\n",
       "      <td>5/21/2022</td>\n",
       "      <td>0.38</td>\n",
       "      <td>4.0</td>\n",
       "      <td>2.0</td>\n",
       "      <td>228.0</td>\n",
       "      <td>Pet friendly but please confirm with me if the...</td>\n",
       "      <td>NaN</td>\n",
       "    </tr>\n",
       "    <tr>\n",
       "      <th>2</th>\n",
       "      <td>1002403</td>\n",
       "      <td>THE VILLAGE OF HARLEM....NEW YORK !</td>\n",
       "      <td>78829239556</td>\n",
       "      <td>NaN</td>\n",
       "      <td>Elise</td>\n",
       "      <td>Manhattan</td>\n",
       "      <td>Harlem</td>\n",
       "      <td>40.80902</td>\n",
       "      <td>-73.94190</td>\n",
       "      <td>United States</td>\n",
       "      <td>...</td>\n",
       "      <td>$124</td>\n",
       "      <td>3.0</td>\n",
       "      <td>0.0</td>\n",
       "      <td>NaN</td>\n",
       "      <td>NaN</td>\n",
       "      <td>5.0</td>\n",
       "      <td>1.0</td>\n",
       "      <td>352.0</td>\n",
       "      <td>I encourage you to use my kitchen, cooking and...</td>\n",
       "      <td>NaN</td>\n",
       "    </tr>\n",
       "    <tr>\n",
       "      <th>3</th>\n",
       "      <td>1002755</td>\n",
       "      <td>NaN</td>\n",
       "      <td>85098326012</td>\n",
       "      <td>unconfirmed</td>\n",
       "      <td>Garry</td>\n",
       "      <td>Brooklyn</td>\n",
       "      <td>Clinton Hill</td>\n",
       "      <td>40.68514</td>\n",
       "      <td>-73.95976</td>\n",
       "      <td>United States</td>\n",
       "      <td>...</td>\n",
       "      <td>$74</td>\n",
       "      <td>30.0</td>\n",
       "      <td>270.0</td>\n",
       "      <td>7/5/2019</td>\n",
       "      <td>4.64</td>\n",
       "      <td>4.0</td>\n",
       "      <td>1.0</td>\n",
       "      <td>322.0</td>\n",
       "      <td>NaN</td>\n",
       "      <td>NaN</td>\n",
       "    </tr>\n",
       "    <tr>\n",
       "      <th>4</th>\n",
       "      <td>1003689</td>\n",
       "      <td>Entire Apt: Spacious Studio/Loft by central park</td>\n",
       "      <td>92037596077</td>\n",
       "      <td>verified</td>\n",
       "      <td>Lyndon</td>\n",
       "      <td>Manhattan</td>\n",
       "      <td>East Harlem</td>\n",
       "      <td>40.79851</td>\n",
       "      <td>-73.94399</td>\n",
       "      <td>United States</td>\n",
       "      <td>...</td>\n",
       "      <td>$41</td>\n",
       "      <td>10.0</td>\n",
       "      <td>9.0</td>\n",
       "      <td>11/19/2018</td>\n",
       "      <td>0.10</td>\n",
       "      <td>3.0</td>\n",
       "      <td>1.0</td>\n",
       "      <td>289.0</td>\n",
       "      <td>Please no smoking in the house, porch or on th...</td>\n",
       "      <td>NaN</td>\n",
       "    </tr>\n",
       "  </tbody>\n",
       "</table>\n",
       "<p>5 rows × 26 columns</p>\n",
       "</div>"
      ],
      "text/plain": [
       "        id                                              NAME      host id  \\\n",
       "0  1001254                Clean & quiet apt home by the park  80014485718   \n",
       "1  1002102                             Skylit Midtown Castle  52335172823   \n",
       "2  1002403               THE VILLAGE OF HARLEM....NEW YORK !  78829239556   \n",
       "3  1002755                                               NaN  85098326012   \n",
       "4  1003689  Entire Apt: Spacious Studio/Loft by central park  92037596077   \n",
       "\n",
       "  host_identity_verified host name neighbourhood group neighbourhood  \\\n",
       "0            unconfirmed  Madaline            Brooklyn    Kensington   \n",
       "1               verified     Jenna           Manhattan       Midtown   \n",
       "2                    NaN     Elise           Manhattan        Harlem   \n",
       "3            unconfirmed     Garry            Brooklyn  Clinton Hill   \n",
       "4               verified    Lyndon           Manhattan   East Harlem   \n",
       "\n",
       "        lat      long        country  ... service fee minimum nights  \\\n",
       "0  40.64749 -73.97237  United States  ...       $193            10.0   \n",
       "1  40.75362 -73.98377  United States  ...        $28            30.0   \n",
       "2  40.80902 -73.94190  United States  ...       $124             3.0   \n",
       "3  40.68514 -73.95976  United States  ...        $74            30.0   \n",
       "4  40.79851 -73.94399  United States  ...        $41            10.0   \n",
       "\n",
       "  number of reviews last review  reviews per month review rate number  \\\n",
       "0               9.0  10/19/2021               0.21                4.0   \n",
       "1              45.0   5/21/2022               0.38                4.0   \n",
       "2               0.0         NaN                NaN                5.0   \n",
       "3             270.0    7/5/2019               4.64                4.0   \n",
       "4               9.0  11/19/2018               0.10                3.0   \n",
       "\n",
       "  calculated host listings count  availability 365  \\\n",
       "0                            6.0             286.0   \n",
       "1                            2.0             228.0   \n",
       "2                            1.0             352.0   \n",
       "3                            1.0             322.0   \n",
       "4                            1.0             289.0   \n",
       "\n",
       "                                         house_rules license  \n",
       "0  Clean up and treat the home the way you'd like...     NaN  \n",
       "1  Pet friendly but please confirm with me if the...     NaN  \n",
       "2  I encourage you to use my kitchen, cooking and...     NaN  \n",
       "3                                                NaN     NaN  \n",
       "4  Please no smoking in the house, porch or on th...     NaN  \n",
       "\n",
       "[5 rows x 26 columns]"
      ]
     },
     "execution_count": 4,
     "metadata": {},
     "output_type": "execute_result"
    }
   ],
   "source": [
    "df.head()"
   ]
  },
  {
   "cell_type": "code",
   "execution_count": 5,
   "id": "436de102",
   "metadata": {},
   "outputs": [
    {
     "name": "stdout",
     "output_type": "stream",
     "text": [
      "<class 'pandas.core.frame.DataFrame'>\n",
      "RangeIndex: 102599 entries, 0 to 102598\n",
      "Data columns (total 26 columns):\n",
      " #   Column                          Non-Null Count   Dtype  \n",
      "---  ------                          --------------   -----  \n",
      " 0   id                              102599 non-null  int64  \n",
      " 1   NAME                            102349 non-null  object \n",
      " 2   host id                         102599 non-null  int64  \n",
      " 3   host_identity_verified          102310 non-null  object \n",
      " 4   host name                       102193 non-null  object \n",
      " 5   neighbourhood group             102570 non-null  object \n",
      " 6   neighbourhood                   102583 non-null  object \n",
      " 7   lat                             102591 non-null  float64\n",
      " 8   long                            102591 non-null  float64\n",
      " 9   country                         102067 non-null  object \n",
      " 10  country code                    102468 non-null  object \n",
      " 11  instant_bookable                102494 non-null  object \n",
      " 12  cancellation_policy             102523 non-null  object \n",
      " 13  room type                       102599 non-null  object \n",
      " 14  Construction year               102385 non-null  float64\n",
      " 15  price                           102352 non-null  object \n",
      " 16  service fee                     102326 non-null  object \n",
      " 17  minimum nights                  102190 non-null  float64\n",
      " 18  number of reviews               102416 non-null  float64\n",
      " 19  last review                     86706 non-null   object \n",
      " 20  reviews per month               86720 non-null   float64\n",
      " 21  review rate number              102273 non-null  float64\n",
      " 22  calculated host listings count  102280 non-null  float64\n",
      " 23  availability 365                102151 non-null  float64\n",
      " 24  house_rules                     50468 non-null   object \n",
      " 25  license                         2 non-null       object \n",
      "dtypes: float64(9), int64(2), object(15)\n",
      "memory usage: 20.4+ MB\n"
     ]
    }
   ],
   "source": [
    "df.info()"
   ]
  },
  {
   "cell_type": "markdown",
   "id": "53daedc7",
   "metadata": {},
   "source": [
    "## Project plan\n",
    "- There are 26 columns. I will clean the column names and drop some irrelevant columns, such as id, name, host id, host name, last review, house rules, license, etc., for the price analysis.\n",
    "- I will handle null values by filling numerical columns with the median and categorical columns with the mode.\n",
    "- I will convert data types: making price and service_fee as floats.\n",
    "- I will detect any outliers in the dataset.\n",
    "- I will analyze the factors affecting price.\n",
    "- I will use supervised learning to predict the target variable (price) based on known features."
   ]
  },
  {
   "cell_type": "markdown",
   "id": "d7911a56",
   "metadata": {},
   "source": [
    "## Data cleaning and preprocessing"
   ]
  },
  {
   "cell_type": "code",
   "execution_count": 6,
   "id": "f334d7ea",
   "metadata": {},
   "outputs": [],
   "source": [
    "# Drop irrelevant columns\n",
    "data = df.drop(['id', 'NAME', 'host id', 'host name', 'country', 'country code', 'last review', 'house_rules', 'license'], axis=1)"
   ]
  },
  {
   "cell_type": "code",
   "execution_count": 7,
   "id": "9f4b3080",
   "metadata": {},
   "outputs": [],
   "source": [
    "# Clean column names\n",
    "data = data.rename(columns={'neighbourhood group':'neighbourhood_group',\\\n",
    "                           'room type':'room_type',\\\n",
    "                           'Construction year':'construction_year',\\\n",
    "                           'service fee':'service_fee',\\\n",
    "                           'minimum nights':'minimum_nights',\\\n",
    "                           'number of reviews':'number_of_reviews',\\\n",
    "                           'last review':'last_review',\\\n",
    "                           'reviews per month':'reviews_per_month',\\\n",
    "                           'review rate number':'review_rate_number',\\\n",
    "                           'calculated host listings count':'calculated_host_listings_count',\\\n",
    "                           'availability 365':'availability_365'})"
   ]
  },
  {
   "cell_type": "code",
   "execution_count": 8,
   "id": "6202b829",
   "metadata": {},
   "outputs": [
    {
     "name": "stdout",
     "output_type": "stream",
     "text": [
      "<class 'pandas.core.frame.DataFrame'>\n",
      "RangeIndex: 102599 entries, 0 to 102598\n",
      "Data columns (total 17 columns):\n",
      " #   Column                          Non-Null Count   Dtype  \n",
      "---  ------                          --------------   -----  \n",
      " 0   host_identity_verified          102310 non-null  object \n",
      " 1   neighbourhood_group             102570 non-null  object \n",
      " 2   neighbourhood                   102583 non-null  object \n",
      " 3   lat                             102591 non-null  float64\n",
      " 4   long                            102591 non-null  float64\n",
      " 5   instant_bookable                102494 non-null  object \n",
      " 6   cancellation_policy             102523 non-null  object \n",
      " 7   room_type                       102599 non-null  object \n",
      " 8   construction_year               102385 non-null  float64\n",
      " 9   price                           102352 non-null  object \n",
      " 10  service_fee                     102326 non-null  object \n",
      " 11  minimum_nights                  102190 non-null  float64\n",
      " 12  number_of_reviews               102416 non-null  float64\n",
      " 13  reviews_per_month               86720 non-null   float64\n",
      " 14  review_rate_number              102273 non-null  float64\n",
      " 15  calculated_host_listings_count  102280 non-null  float64\n",
      " 16  availability_365                102151 non-null  float64\n",
      "dtypes: float64(9), object(8)\n",
      "memory usage: 13.3+ MB\n"
     ]
    }
   ],
   "source": [
    "data.info()"
   ]
  },
  {
   "cell_type": "code",
   "execution_count": 9,
   "id": "a80b8195",
   "metadata": {},
   "outputs": [],
   "source": [
    "# Handle duplicates\n",
    "data.duplicated().sum()\n",
    "data = data.drop_duplicates()"
   ]
  },
  {
   "cell_type": "code",
   "execution_count": 10,
   "id": "37471fdc",
   "metadata": {},
   "outputs": [
    {
     "data": {
      "text/plain": [
       "host_identity_verified             0.292028\n",
       "neighbourhood_group                0.029304\n",
       "neighbourhood                      0.016168\n",
       "lat                                0.008084\n",
       "long                               0.008084\n",
       "instant_bookable                   0.106100\n",
       "cancellation_policy                0.076796\n",
       "room_type                          0.000000\n",
       "construction_year                  0.216242\n",
       "price                              0.249588\n",
       "service_fee                        0.275861\n",
       "minimum_nights                     0.402171\n",
       "number_of_reviews                  0.181886\n",
       "reviews_per_month                 15.498722\n",
       "review_rate_number                 0.316280\n",
       "calculated_host_listings_count     0.311227\n",
       "availability_365                   0.452694\n",
       "dtype: float64"
      ]
     },
     "execution_count": 10,
     "metadata": {},
     "output_type": "execute_result"
    }
   ],
   "source": [
    "# Calculate missing values\n",
    "data.isna().sum() / len(data) * 100"
   ]
  },
  {
   "cell_type": "code",
   "execution_count": 11,
   "id": "b4a656e3",
   "metadata": {},
   "outputs": [],
   "source": [
    "# Filling numerical columns with the median\n",
    "numerical_columns = ['construction_year', 'minimum_nights', 'number_of_reviews', 'reviews_per_month', \\\n",
    "                     'review_rate_number', 'calculated_host_listings_count', 'availability_365']\n",
    "for column in numerical_columns:\n",
    "    data[column] = data[column].fillna(data[column].median())"
   ]
  },
  {
   "cell_type": "code",
   "execution_count": 12,
   "id": "6331b010",
   "metadata": {},
   "outputs": [],
   "source": [
    "# Filling categorical columns with the median\n",
    "categorical_columns = ['host_identity_verified', 'neighbourhood_group', 'neighbourhood', \\\n",
    "                       'instant_bookable', 'cancellation_policy']\n",
    "for column in categorical_columns:\n",
    "    data[column] = data[column].fillna(data[column].mode()[0])"
   ]
  },
  {
   "cell_type": "code",
   "execution_count": 13,
   "id": "8d806384",
   "metadata": {},
   "outputs": [],
   "source": [
    "# Handle lat, long, price, and service_fee missing values\n",
    "data = data.dropna()"
   ]
  },
  {
   "cell_type": "code",
   "execution_count": 14,
   "id": "84a7853b",
   "metadata": {},
   "outputs": [
    {
     "data": {
      "text/plain": [
       "host_identity_verified            0\n",
       "neighbourhood_group               0\n",
       "neighbourhood                     0\n",
       "lat                               0\n",
       "long                              0\n",
       "instant_bookable                  0\n",
       "cancellation_policy               0\n",
       "room_type                         0\n",
       "construction_year                 0\n",
       "price                             0\n",
       "service_fee                       0\n",
       "minimum_nights                    0\n",
       "number_of_reviews                 0\n",
       "reviews_per_month                 0\n",
       "review_rate_number                0\n",
       "calculated_host_listings_count    0\n",
       "availability_365                  0\n",
       "dtype: int64"
      ]
     },
     "execution_count": 14,
     "metadata": {},
     "output_type": "execute_result"
    }
   ],
   "source": [
    "# Recheck for missing values\n",
    "data.isna().sum()"
   ]
  },
  {
   "cell_type": "code",
   "execution_count": 15,
   "id": "143ce327",
   "metadata": {},
   "outputs": [],
   "source": [
    "# Data type conversion\n",
    "data['instant_bookable'] = data['instant_bookable'].astype(bool)\n",
    "data['construction_year'] = data['construction_year'].astype(int)\n",
    "\n",
    "price_columns = ['price', 'service_fee']\n",
    "for column in price_columns:\n",
    "    data[column] = data[column].str.replace('$','').str.replace(',','').astype(float)"
   ]
  },
  {
   "cell_type": "code",
   "execution_count": 16,
   "id": "a7034d51",
   "metadata": {},
   "outputs": [
    {
     "name": "stdout",
     "output_type": "stream",
     "text": [
      "<class 'pandas.core.frame.DataFrame'>\n",
      "RangeIndex: 98469 entries, 0 to 98468\n",
      "Data columns (total 17 columns):\n",
      " #   Column                          Non-Null Count  Dtype  \n",
      "---  ------                          --------------  -----  \n",
      " 0   host_identity_verified          98469 non-null  object \n",
      " 1   neighbourhood_group             98469 non-null  object \n",
      " 2   neighbourhood                   98469 non-null  object \n",
      " 3   lat                             98469 non-null  float64\n",
      " 4   long                            98469 non-null  float64\n",
      " 5   instant_bookable                98469 non-null  bool   \n",
      " 6   cancellation_policy             98469 non-null  object \n",
      " 7   room_type                       98469 non-null  object \n",
      " 8   construction_year               98469 non-null  int32  \n",
      " 9   price                           98469 non-null  float64\n",
      " 10  service_fee                     98469 non-null  float64\n",
      " 11  minimum_nights                  98469 non-null  float64\n",
      " 12  number_of_reviews               98469 non-null  float64\n",
      " 13  reviews_per_month               98469 non-null  float64\n",
      " 14  review_rate_number              98469 non-null  float64\n",
      " 15  calculated_host_listings_count  98469 non-null  float64\n",
      " 16  availability_365                98469 non-null  float64\n",
      "dtypes: bool(1), float64(10), int32(1), object(5)\n",
      "memory usage: 11.7+ MB\n"
     ]
    }
   ],
   "source": [
    "# Recheck data types\n",
    "data.reset_index(drop=True, inplace=True)\n",
    "data.info()"
   ]
  },
  {
   "cell_type": "code",
   "execution_count": 17,
   "id": "daa51911",
   "metadata": {},
   "outputs": [
    {
     "data": {
      "text/html": [
       "<div>\n",
       "<style scoped>\n",
       "    .dataframe tbody tr th:only-of-type {\n",
       "        vertical-align: middle;\n",
       "    }\n",
       "\n",
       "    .dataframe tbody tr th {\n",
       "        vertical-align: top;\n",
       "    }\n",
       "\n",
       "    .dataframe thead th {\n",
       "        text-align: right;\n",
       "    }\n",
       "</style>\n",
       "<table border=\"1\" class=\"dataframe\">\n",
       "  <thead>\n",
       "    <tr style=\"text-align: right;\">\n",
       "      <th></th>\n",
       "      <th>lat</th>\n",
       "      <th>long</th>\n",
       "      <th>construction_year</th>\n",
       "      <th>price</th>\n",
       "      <th>service_fee</th>\n",
       "      <th>minimum_nights</th>\n",
       "      <th>number_of_reviews</th>\n",
       "      <th>reviews_per_month</th>\n",
       "      <th>review_rate_number</th>\n",
       "      <th>calculated_host_listings_count</th>\n",
       "      <th>availability_365</th>\n",
       "    </tr>\n",
       "  </thead>\n",
       "  <tbody>\n",
       "    <tr>\n",
       "      <th>count</th>\n",
       "      <td>98469.000000</td>\n",
       "      <td>98469.000000</td>\n",
       "      <td>98469.000000</td>\n",
       "      <td>98469.000000</td>\n",
       "      <td>98469.000000</td>\n",
       "      <td>98469.000000</td>\n",
       "      <td>98469.000000</td>\n",
       "      <td>98469.000000</td>\n",
       "      <td>98469.000000</td>\n",
       "      <td>98469.000000</td>\n",
       "      <td>98469.000000</td>\n",
       "    </tr>\n",
       "    <tr>\n",
       "      <th>mean</th>\n",
       "      <td>40.728106</td>\n",
       "      <td>-73.949636</td>\n",
       "      <td>2012.487585</td>\n",
       "      <td>625.158486</td>\n",
       "      <td>125.032548</td>\n",
       "      <td>8.123805</td>\n",
       "      <td>27.562603</td>\n",
       "      <td>1.278477</td>\n",
       "      <td>3.281601</td>\n",
       "      <td>7.963532</td>\n",
       "      <td>141.839147</td>\n",
       "    </tr>\n",
       "    <tr>\n",
       "      <th>std</th>\n",
       "      <td>0.055845</td>\n",
       "      <td>0.049540</td>\n",
       "      <td>5.760751</td>\n",
       "      <td>331.751761</td>\n",
       "      <td>66.353857</td>\n",
       "      <td>30.895921</td>\n",
       "      <td>49.859006</td>\n",
       "      <td>1.628664</td>\n",
       "      <td>1.281517</td>\n",
       "      <td>32.321118</td>\n",
       "      <td>135.183164</td>\n",
       "    </tr>\n",
       "    <tr>\n",
       "      <th>min</th>\n",
       "      <td>40.499790</td>\n",
       "      <td>-74.249840</td>\n",
       "      <td>2003.000000</td>\n",
       "      <td>50.000000</td>\n",
       "      <td>10.000000</td>\n",
       "      <td>-1223.000000</td>\n",
       "      <td>0.000000</td>\n",
       "      <td>0.010000</td>\n",
       "      <td>1.000000</td>\n",
       "      <td>1.000000</td>\n",
       "      <td>-10.000000</td>\n",
       "    </tr>\n",
       "    <tr>\n",
       "      <th>25%</th>\n",
       "      <td>40.688700</td>\n",
       "      <td>-73.982600</td>\n",
       "      <td>2008.000000</td>\n",
       "      <td>339.000000</td>\n",
       "      <td>68.000000</td>\n",
       "      <td>2.000000</td>\n",
       "      <td>1.000000</td>\n",
       "      <td>0.280000</td>\n",
       "      <td>2.000000</td>\n",
       "      <td>1.000000</td>\n",
       "      <td>4.000000</td>\n",
       "    </tr>\n",
       "    <tr>\n",
       "      <th>50%</th>\n",
       "      <td>40.722330</td>\n",
       "      <td>-73.954470</td>\n",
       "      <td>2012.000000</td>\n",
       "      <td>624.000000</td>\n",
       "      <td>125.000000</td>\n",
       "      <td>3.000000</td>\n",
       "      <td>7.000000</td>\n",
       "      <td>0.740000</td>\n",
       "      <td>3.000000</td>\n",
       "      <td>1.000000</td>\n",
       "      <td>99.000000</td>\n",
       "    </tr>\n",
       "    <tr>\n",
       "      <th>75%</th>\n",
       "      <td>40.762760</td>\n",
       "      <td>-73.932350</td>\n",
       "      <td>2017.000000</td>\n",
       "      <td>913.000000</td>\n",
       "      <td>183.000000</td>\n",
       "      <td>5.000000</td>\n",
       "      <td>30.000000</td>\n",
       "      <td>1.710000</td>\n",
       "      <td>4.000000</td>\n",
       "      <td>2.000000</td>\n",
       "      <td>269.000000</td>\n",
       "    </tr>\n",
       "    <tr>\n",
       "      <th>max</th>\n",
       "      <td>40.916970</td>\n",
       "      <td>-73.705220</td>\n",
       "      <td>2022.000000</td>\n",
       "      <td>1200.000000</td>\n",
       "      <td>240.000000</td>\n",
       "      <td>5645.000000</td>\n",
       "      <td>1024.000000</td>\n",
       "      <td>90.000000</td>\n",
       "      <td>5.000000</td>\n",
       "      <td>332.000000</td>\n",
       "      <td>3677.000000</td>\n",
       "    </tr>\n",
       "  </tbody>\n",
       "</table>\n",
       "</div>"
      ],
      "text/plain": [
       "                lat          long  construction_year         price  \\\n",
       "count  98469.000000  98469.000000       98469.000000  98469.000000   \n",
       "mean      40.728106    -73.949636        2012.487585    625.158486   \n",
       "std        0.055845      0.049540           5.760751    331.751761   \n",
       "min       40.499790    -74.249840        2003.000000     50.000000   \n",
       "25%       40.688700    -73.982600        2008.000000    339.000000   \n",
       "50%       40.722330    -73.954470        2012.000000    624.000000   \n",
       "75%       40.762760    -73.932350        2017.000000    913.000000   \n",
       "max       40.916970    -73.705220        2022.000000   1200.000000   \n",
       "\n",
       "        service_fee  minimum_nights  number_of_reviews  reviews_per_month  \\\n",
       "count  98469.000000    98469.000000       98469.000000       98469.000000   \n",
       "mean     125.032548        8.123805          27.562603           1.278477   \n",
       "std       66.353857       30.895921          49.859006           1.628664   \n",
       "min       10.000000    -1223.000000           0.000000           0.010000   \n",
       "25%       68.000000        2.000000           1.000000           0.280000   \n",
       "50%      125.000000        3.000000           7.000000           0.740000   \n",
       "75%      183.000000        5.000000          30.000000           1.710000   \n",
       "max      240.000000     5645.000000        1024.000000          90.000000   \n",
       "\n",
       "       review_rate_number  calculated_host_listings_count  availability_365  \n",
       "count        98469.000000                    98469.000000      98469.000000  \n",
       "mean             3.281601                        7.963532        141.839147  \n",
       "std              1.281517                       32.321118        135.183164  \n",
       "min              1.000000                        1.000000        -10.000000  \n",
       "25%              2.000000                        1.000000          4.000000  \n",
       "50%              3.000000                        1.000000         99.000000  \n",
       "75%              4.000000                        2.000000        269.000000  \n",
       "max              5.000000                      332.000000       3677.000000  "
      ]
     },
     "execution_count": 17,
     "metadata": {},
     "output_type": "execute_result"
    }
   ],
   "source": [
    "# Detect any outliers in the dataset\n",
    "data.describe()"
   ]
  },
  {
   "cell_type": "markdown",
   "id": "f6993541",
   "metadata": {},
   "source": [
    "There are outliers in the minimum_nights and availability_365 columns, as it's impossible to have negative values as minimum values.\n",
    "\n",
    "Here, I assume that the upper bound for minimum_nights is 60 days (2 months)."
   ]
  },
  {
   "cell_type": "code",
   "execution_count": 18,
   "id": "f25d6d4a",
   "metadata": {},
   "outputs": [],
   "source": [
    "# Remove outliers in the minimum_nights and availability_365 columns\n",
    "data = data[(data['minimum_nights'] > 0) & (data['minimum_nights'] <= 60)]\n",
    "data = data[(data['availability_365'] >= 0) & (data['availability_365'] <= 365)]"
   ]
  },
  {
   "cell_type": "code",
   "execution_count": 19,
   "id": "cb6bd101",
   "metadata": {},
   "outputs": [
    {
     "data": {
      "text/html": [
       "<div>\n",
       "<style scoped>\n",
       "    .dataframe tbody tr th:only-of-type {\n",
       "        vertical-align: middle;\n",
       "    }\n",
       "\n",
       "    .dataframe tbody tr th {\n",
       "        vertical-align: top;\n",
       "    }\n",
       "\n",
       "    .dataframe thead th {\n",
       "        text-align: right;\n",
       "    }\n",
       "</style>\n",
       "<table border=\"1\" class=\"dataframe\">\n",
       "  <thead>\n",
       "    <tr style=\"text-align: right;\">\n",
       "      <th></th>\n",
       "      <th>lat</th>\n",
       "      <th>long</th>\n",
       "      <th>construction_year</th>\n",
       "      <th>price</th>\n",
       "      <th>service_fee</th>\n",
       "      <th>minimum_nights</th>\n",
       "      <th>number_of_reviews</th>\n",
       "      <th>reviews_per_month</th>\n",
       "      <th>review_rate_number</th>\n",
       "      <th>calculated_host_listings_count</th>\n",
       "      <th>availability_365</th>\n",
       "    </tr>\n",
       "  </thead>\n",
       "  <tbody>\n",
       "    <tr>\n",
       "      <th>count</th>\n",
       "      <td>94643.000000</td>\n",
       "      <td>94643.000000</td>\n",
       "      <td>94643.000000</td>\n",
       "      <td>94643.000000</td>\n",
       "      <td>94643.000000</td>\n",
       "      <td>94643.000000</td>\n",
       "      <td>94643.000000</td>\n",
       "      <td>94643.000000</td>\n",
       "      <td>94643.000000</td>\n",
       "      <td>94643.000000</td>\n",
       "      <td>94643.000000</td>\n",
       "    </tr>\n",
       "    <tr>\n",
       "      <th>mean</th>\n",
       "      <td>40.727933</td>\n",
       "      <td>-73.949239</td>\n",
       "      <td>2012.492197</td>\n",
       "      <td>625.735511</td>\n",
       "      <td>125.148072</td>\n",
       "      <td>6.892639</td>\n",
       "      <td>27.394387</td>\n",
       "      <td>1.297633</td>\n",
       "      <td>3.291052</td>\n",
       "      <td>8.035333</td>\n",
       "      <td>134.907061</td>\n",
       "    </tr>\n",
       "    <tr>\n",
       "      <th>std</th>\n",
       "      <td>0.055959</td>\n",
       "      <td>0.049957</td>\n",
       "      <td>5.761129</td>\n",
       "      <td>331.755559</td>\n",
       "      <td>66.354349</td>\n",
       "      <td>10.011635</td>\n",
       "      <td>49.556590</td>\n",
       "      <td>1.645166</td>\n",
       "      <td>1.275175</td>\n",
       "      <td>32.615060</td>\n",
       "      <td>129.446691</td>\n",
       "    </tr>\n",
       "    <tr>\n",
       "      <th>min</th>\n",
       "      <td>40.499790</td>\n",
       "      <td>-74.249840</td>\n",
       "      <td>2003.000000</td>\n",
       "      <td>50.000000</td>\n",
       "      <td>10.000000</td>\n",
       "      <td>1.000000</td>\n",
       "      <td>0.000000</td>\n",
       "      <td>0.010000</td>\n",
       "      <td>1.000000</td>\n",
       "      <td>1.000000</td>\n",
       "      <td>0.000000</td>\n",
       "    </tr>\n",
       "    <tr>\n",
       "      <th>25%</th>\n",
       "      <td>40.688605</td>\n",
       "      <td>-73.982490</td>\n",
       "      <td>2008.000000</td>\n",
       "      <td>340.000000</td>\n",
       "      <td>68.000000</td>\n",
       "      <td>2.000000</td>\n",
       "      <td>1.000000</td>\n",
       "      <td>0.290000</td>\n",
       "      <td>2.000000</td>\n",
       "      <td>1.000000</td>\n",
       "      <td>3.000000</td>\n",
       "    </tr>\n",
       "    <tr>\n",
       "      <th>50%</th>\n",
       "      <td>40.722160</td>\n",
       "      <td>-73.954300</td>\n",
       "      <td>2012.000000</td>\n",
       "      <td>625.000000</td>\n",
       "      <td>125.000000</td>\n",
       "      <td>3.000000</td>\n",
       "      <td>7.000000</td>\n",
       "      <td>0.740000</td>\n",
       "      <td>3.000000</td>\n",
       "      <td>1.000000</td>\n",
       "      <td>92.000000</td>\n",
       "    </tr>\n",
       "    <tr>\n",
       "      <th>75%</th>\n",
       "      <td>40.762635</td>\n",
       "      <td>-73.931820</td>\n",
       "      <td>2017.000000</td>\n",
       "      <td>914.000000</td>\n",
       "      <td>183.000000</td>\n",
       "      <td>5.000000</td>\n",
       "      <td>30.000000</td>\n",
       "      <td>1.760000</td>\n",
       "      <td>4.000000</td>\n",
       "      <td>2.000000</td>\n",
       "      <td>254.000000</td>\n",
       "    </tr>\n",
       "    <tr>\n",
       "      <th>max</th>\n",
       "      <td>40.916970</td>\n",
       "      <td>-73.705220</td>\n",
       "      <td>2022.000000</td>\n",
       "      <td>1200.000000</td>\n",
       "      <td>240.000000</td>\n",
       "      <td>60.000000</td>\n",
       "      <td>1024.000000</td>\n",
       "      <td>90.000000</td>\n",
       "      <td>5.000000</td>\n",
       "      <td>332.000000</td>\n",
       "      <td>365.000000</td>\n",
       "    </tr>\n",
       "  </tbody>\n",
       "</table>\n",
       "</div>"
      ],
      "text/plain": [
       "                lat          long  construction_year         price  \\\n",
       "count  94643.000000  94643.000000       94643.000000  94643.000000   \n",
       "mean      40.727933    -73.949239        2012.492197    625.735511   \n",
       "std        0.055959      0.049957           5.761129    331.755559   \n",
       "min       40.499790    -74.249840        2003.000000     50.000000   \n",
       "25%       40.688605    -73.982490        2008.000000    340.000000   \n",
       "50%       40.722160    -73.954300        2012.000000    625.000000   \n",
       "75%       40.762635    -73.931820        2017.000000    914.000000   \n",
       "max       40.916970    -73.705220        2022.000000   1200.000000   \n",
       "\n",
       "        service_fee  minimum_nights  number_of_reviews  reviews_per_month  \\\n",
       "count  94643.000000    94643.000000       94643.000000       94643.000000   \n",
       "mean     125.148072        6.892639          27.394387           1.297633   \n",
       "std       66.354349       10.011635          49.556590           1.645166   \n",
       "min       10.000000        1.000000           0.000000           0.010000   \n",
       "25%       68.000000        2.000000           1.000000           0.290000   \n",
       "50%      125.000000        3.000000           7.000000           0.740000   \n",
       "75%      183.000000        5.000000          30.000000           1.760000   \n",
       "max      240.000000       60.000000        1024.000000          90.000000   \n",
       "\n",
       "       review_rate_number  calculated_host_listings_count  availability_365  \n",
       "count        94643.000000                    94643.000000      94643.000000  \n",
       "mean             3.291052                        8.035333        134.907061  \n",
       "std              1.275175                       32.615060        129.446691  \n",
       "min              1.000000                        1.000000          0.000000  \n",
       "25%              2.000000                        1.000000          3.000000  \n",
       "50%              3.000000                        1.000000         92.000000  \n",
       "75%              4.000000                        2.000000        254.000000  \n",
       "max              5.000000                      332.000000        365.000000  "
      ]
     },
     "execution_count": 19,
     "metadata": {},
     "output_type": "execute_result"
    }
   ],
   "source": [
    "# Recheck the dataset for possible outliers\n",
    "data.reset_index(drop=True, inplace=True)\n",
    "data.describe()"
   ]
  },
  {
   "cell_type": "markdown",
   "id": "cda3a567",
   "metadata": {},
   "source": [
    "The data is now free from outliers. It appears that some of the neighborhood names are similar but have different spellings, such as brookln and Brooklyn. Let's combine these to ensure consistency."
   ]
  },
  {
   "cell_type": "code",
   "execution_count": 39,
   "id": "347680c5",
   "metadata": {},
   "outputs": [],
   "source": [
    "# Replace brookln with Brooklyn\n",
    "data['neighbourhood_group'] = data['neighbourhood_group'].str.replace('brookln', 'Brooklyn')"
   ]
  },
  {
   "cell_type": "markdown",
   "id": "a14b7026",
   "metadata": {},
   "source": [
    "## Exploratory data analysis"
   ]
  },
  {
   "cell_type": "code",
   "execution_count": 20,
   "id": "d57420fc",
   "metadata": {},
   "outputs": [
    {
     "data": {
      "image/png": "[encoded data removed]",
      "text/plain": [
       "<Figure size 640x480 with 1 Axes>"
      ]
     },
     "metadata": {},
     "output_type": "display_data"
    }
   ],
   "source": [
    "# Let's start with the price column to understand the distribution of prices.\n",
    "sns.histplot(data['price'], bins=30, kde=True)\n",
    "plt.title('Distribution of prices')\n",
    "plt.xlabel('Price (in dollars)')\n",
    "plt.ylabel('Frequency')\n",
    "plt.show()"
   ]
  },
  {
   "cell_type": "markdown",
   "id": "ecff71ef",
   "metadata": {},
   "source": [
    "The distribution appears uniform; however, the highest concentration of prices generally peaks around 400 to 600 dollars."
   ]
  },
  {
   "cell_type": "code",
   "execution_count": 80,
   "id": "3cf6b881",
   "metadata": {},
   "outputs": [
    {
     "data": {
      "image/png": "[encoded data removed]",
      "text/plain": [
       "<Figure size 640x480 with 1 Axes>"
      ]
     },
     "metadata": {},
     "output_type": "display_data"
    }
   ],
   "source": [
    "# Plot distribution of neighbourhood_group\n",
    "sns.countplot(x='neighbourhood_group', data=data, order=data['neighbourhood_group'].value_counts(ascending=False).index)\n",
    "plt.title('Count of neighbourhood_group')\n",
    "plt.xlabel('Neighbourhood group')\n",
    "plt.ylabel('Count')\n",
    "plt.show()"
   ]
  },
  {
   "cell_type": "code",
   "execution_count": 79,
   "id": "bb53f380",
   "metadata": {},
   "outputs": [
    {
     "data": {
      "image/png": "[encoded data removed]",
      "text/plain": [
       "<Figure size 640x480 with 1 Axes>"
      ]
     },
     "metadata": {},
     "output_type": "display_data"
    }
   ],
   "source": [
    "# Plot distribution of neighbourhood\n",
    "most_neighbourhood = data.groupby('neighbourhood')['neighbourhood'].agg('count').sort_values(ascending=False).head(20)\n",
    "plt.barh(most_neighbourhood.index, most_neighbourhood.values)\n",
    "plt.title('Count of neighbourhood')\n",
    "plt.xlabel('Neighbourhood')\n",
    "plt.ylabel('Count')\n",
    "plt.gca().invert_yaxis()\n",
    "plt.show()"
   ]
  },
  {
   "cell_type": "code",
   "execution_count": 85,
   "id": "87d96ec4",
   "metadata": {},
   "outputs": [
    {
     "data": {
      "image/png": "[encoded data removed]",
      "text/plain": [
       "<Figure size 640x480 with 1 Axes>"
      ]
     },
     "metadata": {},
     "output_type": "display_data"
    }
   ],
   "source": [
    "# Plot distribution of instant_bookable\n",
    "ax = sns.countplot(x='instant_bookable', data=data)\n",
    "plt.title('Count of instant_bookable')\n",
    "plt.xlabel('Instant bookable')\n",
    "plt.ylabel('Count')\n",
    "for label in ax.containers:\n",
    "    ax.bar_label(label)\n",
    "plt.show()"
   ]
  },
  {
   "cell_type": "code",
   "execution_count": 84,
   "id": "ed18503f",
   "metadata": {},
   "outputs": [
    {
     "data": {
      "image/png": "[encoded data removed]",
      "text/plain": [
       "<Figure size 640x480 with 1 Axes>"
      ]
     },
     "metadata": {},
     "output_type": "display_data"
    }
   ],
   "source": [
    "# Plot distribution of cancellation_policy\n",
    "ax = sns.countplot(x='cancellation_policy', data=data, order=data['cancellation_policy'].value_counts(ascending=False).index)\n",
    "plt.title('Count of cancellation_policy')\n",
    "plt.xlabel('Cancellation policy')\n",
    "plt.ylabel('Count')\n",
    "for label in ax.containers:\n",
    "    ax.bar_label(label)\n",
    "plt.show()"
   ]
  },
  {
   "cell_type": "code",
   "execution_count": 91,
   "id": "ee5f2dbf",
   "metadata": {},
   "outputs": [
    {
     "data": {
      "image/png": "[encoded data removed]",
      "text/plain": [
       "<Figure size 640x480 with 1 Axes>"
      ]
     },
     "metadata": {},
     "output_type": "display_data"
    }
   ],
   "source": [
    "# Plot distribution of room_type\n",
    "sns.countplot(x='room_type', data=data, order=data['room_type'].value_counts(ascending=False).index)\n",
    "plt.title('Count of room_type')\n",
    "plt.xlabel('Room type')\n",
    "plt.ylabel('Count')\n",
    "plt.show()"
   ]
  },
  {
   "cell_type": "markdown",
   "id": "3401e1a9",
   "metadata": {},
   "source": [
    "The bar plot shows that the majority of Airbnb properties are located in Manhattan or Brooklyn. Most of the Airbnb properties are either entire homes/apartments or private rooms. The instant_bookable and cancellation_policy features are evenly distributed. However, we can further analyze whether these features correlate with other variables."
   ]
  }
 ],
 "metadata": {
  "kernelspec": {
   "display_name": "Python 3 (ipykernel)",
   "language": "python",
   "name": "python3"
  },
  "language_info": {
   "codemirror_mode": {
    "name": "ipython",
    "version": 3
   },
   "file_extension": ".py",
   "mimetype": "text/x-python",
   "name": "python",
   "nbconvert_exporter": "python",
   "pygments_lexer": "ipython3",
   "version": "3.11.5"
  }
 },
 "nbformat": 4,
 "nbformat_minor": 5
}
